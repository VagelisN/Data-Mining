{
 "cells": [
  {
   "cell_type": "code",
   "execution_count": 14,
   "metadata": {
    "collapsed": true
   },
   "outputs": [],
   "source": [
    "import pandas as pd\n",
    "from ast import literal_eval\n",
    "import gmplot\n",
    "from fastdtw import fastdtw\n",
    "from math import radians, cos, sin, asin, sqrt\n",
    "from scipy.spatial.distance import euclidean\n",
    "import numpy as np\n",
    "from collections import Counter \n",
    "from sklearn.model_selection import StratifiedKFold\n",
    "from sklearn.metrics import accuracy_score\n",
    "from time import time\n",
    "\n",
    "def haversine(A, B):\n",
    "    \"\"\"\n",
    "    Calculate the great circle distance between two points \n",
    "    on the earth (specified in decimal degrees)\n",
    "    \"\"\"\n",
    "    # convert decimal degrees to radians \n",
    "    lon1 = A[0]\n",
    "    lat1 = A[1]\n",
    "    lon2 = B[0]\n",
    "    lat2 = B[1]\n",
    "    lon1, lat1, lon2, lat2 = map(radians, [lon1, lat1, lon2, lat2])\n",
    "\n",
    "    # haversine formula \n",
    "    dlon = lon2 - lon1 \n",
    "    dlat = lat2 - lat1 \n",
    "    a = sin(dlat/2)**2 + cos(lat1) * cos(lat2) * sin(dlon/2)**2\n",
    "    c = 2 * asin(sqrt(a)) \n",
    "    r = 6371 # Radius of earth in kilometers. Use 3956 for miles\n",
    "    return c * r\n",
    "\n",
    "\n",
    "class Knn:\n",
    "    def __init__(self, k = 5):\n",
    "        self.k = k\n",
    "    def fit(self, X, y):\n",
    "        self.X_train = X\n",
    "        self.y_train = y\n",
    "        return\n",
    "\n",
    "    def find_Knn(self, item):\n",
    "        distances = [float('inf')] * self.k\n",
    "        index = [-1] * self.k\n",
    "        maxval = float('inf')\n",
    "        maxpos = 0\n",
    "        for i in range(0,len(self.X_train)):\n",
    "            temp, path = fastdtw(item, self.X_train[i], dist=haversine)\n",
    "            if temp < maxval:\n",
    "                distances[maxpos] = temp\n",
    "                index[maxpos] = i\n",
    "                maxval = max(distances)\n",
    "                maxpos = distances.index(maxval)\n",
    "        JIds = []\n",
    "        for i in range(0,self.k):\n",
    "            JIds.append(self.y_train[index[i]])\n",
    "        data = Counter(JIds)\n",
    "        return data.most_common(1)[0][0]\n",
    "        '''\n",
    "        distances = []\n",
    "        for d in self.X_train:\n",
    "            temp, path = fastdtw(item, d, dist=haversine)\n",
    "            distances.append(temp)\n",
    "        #find the K smallest distances\n",
    "        ind = np.argpartition(distances, self.k)\n",
    "        JIds = []\n",
    "        for i in range(0,self.k):\n",
    "            JIds.append(self.y_train[ind[i]])\n",
    "        data = Counter(JIds)\n",
    "        return data.most_common(1)[0][0]\n",
    "        '''\n",
    "    def predict(self, X_test):\n",
    "        predictions = []\n",
    "        n = 0\n",
    "        for item in X_test:\n",
    "            predictions.append(self.find_Knn(item))\n",
    "        return predictions"
   ]
  },
  {
   "cell_type": "code",
   "execution_count": 15,
   "metadata": {
    "collapsed": true
   },
   "outputs": [],
   "source": [
    "train_set = pd.read_csv('datasets/train_set.csv', converters={\"Trajectory\": literal_eval})\n",
    "test_set = pd.read_csv('datasets/test_set_a1.csv', sep ='\\t', converters={\"Trajectory\": literal_eval})"
   ]
  },
  {
   "cell_type": "code",
   "execution_count": 16,
   "metadata": {
    "collapsed": true
   },
   "outputs": [],
   "source": [
    "Trainnp = []\n",
    "for x  in train_set[\"Trajectory\"]:\n",
    "    temp1 = np.asarray(x)\n",
    "    temp1 = temp1[:, [1,2]]\n",
    "    Trainnp.append(temp1)\n",
    "Ids = []\n",
    "for x in train_set['journeyPatternId']:\n",
    "    Ids.append(x)    \n",
    "\n",
    "Testnp = []\n",
    "for x  in test_set[\"Trajectory\"]:\n",
    "    temp = np.asarray(x)\n",
    "    temp = temp[:, [1,2]]\n",
    "    Testnp.append(temp)"
   ]
  },
  {
   "cell_type": "code",
   "execution_count": 17,
   "metadata": {},
   "outputs": [
    {
     "name": "stdout",
     "output_type": "stream",
     "text": [
      "Finished the prediction in : 123.740674973  s.\n"
     ]
    }
   ],
   "source": [
    "# Predict the Test_set using Knn with k = 5 (default)\n",
    "clf = Knn()\n",
    "t1 = time()\n",
    "clf.fit(Trainnp, Ids)\n",
    "y_pred = clf.predict(Testnp)\n",
    "print \"Finished the prediction in :\",time()-t1,\" s.\"\n",
    "#print y_pred"
   ]
  },
  {
   "cell_type": "code",
   "execution_count": 18,
   "metadata": {
    "collapsed": true
   },
   "outputs": [],
   "source": [
    "#Create the testSet_JourneyPatternIDs.csv from the predicted data\n",
    "i = 0\n",
    "Ids = []\n",
    "for item in y_pred:\n",
    "    Ids.append(i)\n",
    "    i +=1\n",
    "raw_data = {\n",
    "    'Test_Trip_ID': Ids,\n",
    "    'Predicted_JourneyPatternID': y_pred\n",
    "    }\n",
    "df = pd.DataFrame(raw_data, columns = ['Test_Trip_ID','Predicted_JourneyPatternID'])\n",
    "df.to_csv('testSet_JourneyPatternIDs.csv',sep='\\t',index = False)"
   ]
  },
  {
   "cell_type": "code",
   "execution_count": 19,
   "metadata": {},
   "outputs": [
    {
     "name": "stdout",
     "output_type": "stream",
     "text": [
      "Fold 0 :  Accuracy: 0.542253521127\n",
      "Fold 1 :  Accuracy: 0.776595744681\n",
      "Fold 2 :  Accuracy: 0.878048780488\n",
      "Fold 3 :  Accuracy: 0.942857142857\n",
      "Fold 4 :  Accuracy: 0.983870967742\n",
      "Fold 5 :  Accuracy: 0.980392156863\n",
      "Fold 6 :  Accuracy: 0.976744186047\n",
      "Fold 7 :  Accuracy: 1.0\n",
      "Fold 8 :  Accuracy: 0.972222222222\n",
      "Fold 9 :  Accuracy: 1.0\n",
      "\n",
      "Finished 10 fold cross validation for Knn\n",
      "Average Accuracy:  0.905298472203\n",
      "Elapsed time : 1715.05784202  s.\n"
     ]
    }
   ],
   "source": [
    "#10-fold cross-validation \n",
    "\n",
    "#Reduce the size of the train_set to 1/10 of the original\n",
    "tmp = train_set[0: (len(train_set)/10)]\n",
    "Tmpnp = []\n",
    "for x  in tmp[\"Trajectory\"]:\n",
    "    temp1 = np.asarray(x)\n",
    "    temp1 = temp1[:, [1,2]]\n",
    "    Tmpnp.append(temp1)\n",
    "Idstmp = []\n",
    "for x in tmp['journeyPatternId']:\n",
    "    Idstmp.append(x)\n",
    "#Split the train set by preserving the percentage of samples for each class.\n",
    "n_folds = 10 \n",
    "X = np.asarray(Tmpnp)\n",
    "y = np.asarray(Idstmp)\n",
    "folds = StratifiedKFold(n_splits = n_folds)\n",
    "scores = list()\n",
    "clf = Knn()\n",
    "i = 0\n",
    "total_accuracy = 0\n",
    "t1 = time()\n",
    "for train,test in folds.split(X, y):\n",
    "    X_train, X_test, y_train, y_test = X[train], X[test], y[train], y[test]\n",
    "    clf.fit(X_train,y_train)\n",
    "    #Predict the test split\n",
    "    y_pred = clf.predict(X_test)\n",
    "\n",
    "    #Get scores for this fold \n",
    "    scores.append(y_pred)\n",
    "    total_accuracy += accuracy_score(y[test], y_pred)\n",
    "    print \"Fold %d :\" % i,\" Accuracy:\",accuracy_score(y[test], y_pred)\n",
    "    i += 1\n",
    "print \"\\nFinished 10 fold cross validation for Knn\"\n",
    "print \"Average Accuracy: \", (total_accuracy/n_folds)\n",
    "print \"Elapsed time :\", time()-t1,\" s.\"\n"
   ]
  },
  {
   "cell_type": "code",
   "execution_count": null,
   "metadata": {
    "collapsed": true
   },
   "outputs": [],
   "source": []
  }
 ],
 "metadata": {
  "kernelspec": {
   "display_name": "Python 2",
   "language": "python",
   "name": "python2"
  },
  "language_info": {
   "codemirror_mode": {
    "name": "ipython",
    "version": 2
   },
   "file_extension": ".py",
   "mimetype": "text/x-python",
   "name": "python",
   "nbconvert_exporter": "python",
   "pygments_lexer": "ipython2",
   "version": "2.7.14"
  }
 },
 "nbformat": 4,
 "nbformat_minor": 2
}
