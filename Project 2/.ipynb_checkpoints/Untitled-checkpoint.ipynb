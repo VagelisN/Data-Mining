{
 "cells": [
  {
   "cell_type": "code",
   "execution_count": 1,
   "metadata": {
    "collapsed": true
   },
   "outputs": [],
   "source": [
    "import pandas as pd\n",
    "from ast import literal_eval\n",
    "import gmplot\n",
    "from fastdtw import fastdtw\n",
    "from math import radians, cos, sin, asin, sqrt\n",
    "from scipy.spatial.distance import euclidean\n",
    "import numpy as np\n",
    "from collections import Counter\n",
    "import matplotlib\n",
    "\n",
    "def haversine(A, B):\n",
    "    \"\"\"\n",
    "    Calculate the great circle distance between two points \n",
    "    on the earth (specified in decimal degrees)\n",
    "    \"\"\"\n",
    "    # convert decimal degrees to radians \n",
    "    lon1 = A[0]\n",
    "    lat1 = A[1]\n",
    "    lon2 = B[0]\n",
    "    lat2 = B[1]\n",
    "    lon1, lat1, lon2, lat2 = map(radians, [lon1, lat1, lon2, lat2])\n",
    "\n",
    "    # haversine formula \n",
    "    dlon = lon2 - lon1 \n",
    "    dlat = lat2 - lat1 \n",
    "    a = sin(dlat/2)**2 + cos(lat1) * cos(lat2) * sin(dlon/2)**2\n",
    "    c = 2 * asin(sqrt(a)) \n",
    "    r = 6371 # Radius of earth in kilometers. Use 3956 for miles\n",
    "    return c * r\n",
    "\n",
    "\n",
    "class Knn:\n",
    "    def __init__(self, k = 5):\n",
    "        self.k = k\n",
    "    def fit(self, X, y):\n",
    "        self.X_train = X\n",
    "        self.y_train = y\n",
    "        return\n",
    "\n",
    "    def find_Knn(self, item):\n",
    "        distances = []\n",
    "        for d in self.X_train:\n",
    "            temp, path = fastdtw(item, d, dist=haversine)\n",
    "            distances.append(temp)\n",
    "        #find the K smallest distances\n",
    "        ind = np.argpartition(distances, self.k)\n",
    "        JIds = []\n",
    "        for i in range(0,self.k):\n",
    "            JIds.append(self.y_train[ind[i]])\n",
    "        data = Counter(JIds)\n",
    "        return data.most_common(1)[0][0]\n",
    "            \n",
    "    def predict(self, X_test):\n",
    "        predictions = []\n",
    "        n = 0\n",
    "        for item in X_test:\n",
    "            predictions.append(self.find_Knn(item))\n",
    "        return predictions"
   ]
  },
  {
   "cell_type": "code",
   "execution_count": 2,
   "metadata": {},
   "outputs": [],
   "source": [
    "train_set = pd.read_csv('datasets/train_set.csv', # replace with the correct path\n",
    "                        converters={\"Trajectory\": literal_eval})\n",
    "train_set = train_set[0:(len(train_set)/7)]\n",
    "#print len(train_set)"
   ]
  },
  {
   "cell_type": "code",
   "execution_count": 3,
   "metadata": {
    "collapsed": true
   },
   "outputs": [],
   "source": [
    "Ids = []\n",
    "for x in train_set['journeyPatternId']:\n",
    "    Ids.append(x)"
   ]
  },
  {
   "cell_type": "code",
   "execution_count": 4,
   "metadata": {
    "collapsed": true
   },
   "outputs": [],
   "source": [
    "test_set = pd.read_csv('datasets/test_set_a1.csv', # replace with the correct path\n",
    "                        converters={\"Trajectory\": literal_eval})"
   ]
  },
  {
   "cell_type": "code",
   "execution_count": null,
   "metadata": {
    "collapsed": true
   },
   "outputs": [],
   "source": [
    "Trainnp = []\n",
    "for x  in train_set[\"Trajectory\"]:\n",
    "    temp1 = np.asarray(x)\n",
    "    temp1 = temp1[:, [1,2]]\n",
    "    Trainnp.append(temp1)\n",
    "    \n",
    "Testnp = []\n",
    "for x  in test_set[\"Trajectory\"]:\n",
    "    temp = np.asarray(x)\n",
    "    temp = temp[:, [1,2]]\n",
    "    Testnp.append(temp)"
   ]
  },
  {
   "cell_type": "code",
   "execution_count": null,
   "metadata": {
    "scrolled": true
   },
   "outputs": [
    {
     "name": "stderr",
     "output_type": "stream",
     "text": [
      "/home/lefteris/.local/lib/python2.7/site-packages/sklearn/model_selection/_split.py:581: Warning: The least populated class in y has only 1 members, which is too few. The minimum number of groups for any class cannot be less than n_splits=10.\n",
      "  % (min_groups, self.n_splits)), Warning)\n"
     ]
    },
    {
     "name": "stdout",
     "output_type": "stream",
     "text": [
      "Fold 0 :\n",
      "Done fitting the classifier!\n",
      "\tAccuracy: 0.509615384615\n",
      "Fold 1 :\n",
      "Done fitting the classifier!\n",
      "\tAccuracy: 0.755555555556\n",
      "Fold 2 :\n",
      "Done fitting the classifier!\n",
      "\tAccuracy: 0.868421052632\n",
      "Fold 3 :\n",
      "Done fitting the classifier!\n",
      "\tAccuracy: 0.909090909091\n",
      "Fold 4 :\n",
      "Done fitting the classifier!\n",
      "\tAccuracy: 0.965517241379\n",
      "Fold 5 :\n",
      "Done fitting the classifier!\n"
     ]
    }
   ],
   "source": [
    "#10-fold cross-validation \n",
    "from sklearn.model_selection import StratifiedKFold\n",
    "from sklearn.metrics import accuracy_score\n",
    "from time import time\n",
    "#Split the train set by preserving the percentage of samples for each class.\n",
    "n_folds = 10 \n",
    "folds = StratifiedKFold(n_splits = n_folds)\n",
    "scores = list()\n",
    "clf = Knn()\n",
    "i = 0\n",
    "total_accuracy = 0\n",
    "X = np.asarray(Trainnp)\n",
    "y = np.asarray(Ids)\n",
    "t1 = time()\n",
    "for train,test in folds.split(X, y):\n",
    "    print \"Fold %d :\" % i\n",
    "    X_train, X_test, y_train, y_test = X[train], X[test], y[train], y[test]\n",
    "    clf.fit(X_train,y_train)\n",
    "    print \"Done fitting the classifier!\"\n",
    "    #Predict the test split\n",
    "    y_pred = clf.predict(X_test)\n",
    "\n",
    "    #Get scores for this fold \n",
    "    scores.append(y_pred)\n",
    "    total_accuracy += accuracy_score(y[test], y_pred)\n",
    "    print \"\\tAccuracy:\",accuracy_score(y[test], y_pred)\n",
    "    i += 1\n",
    "print \"\\nFinished 10 fold cross validation for Knn\"\n",
    "print \"Average Accuracy: \", (total_accuracy/n_folds)\n",
    "print \"Elapsed time :\", time()-t1,\" s.\"\n"
   ]
  },
  {
   "cell_type": "code",
   "execution_count": null,
   "metadata": {
    "collapsed": true
   },
   "outputs": [],
   "source": [
    "clf = Knn()\n",
    "clf.fit(Trainnp, Ids)\n",
    "y_pred = clf.predict(Testnp)\n",
    "print y_pred"
   ]
  },
  {
   "cell_type": "code",
   "execution_count": null,
   "metadata": {
    "collapsed": true
   },
   "outputs": [],
   "source": [
    "longitudes=[]\n",
    "latitudes=[]\n",
    "for point in Testnp[4]:\n",
    "    longitudes.append(point[0])\n",
    "    latitudes.append(point[1])\n",
    "gmap = gmplot.GoogleMapPlotter(latitudes[0],longitudes[0],16)\n",
    "gmap.plot(latitudes, longitudes, 'cornflowerblue', edge_width=10)\n",
    "\n",
    "jrns = train_set['journeyPatternId']\n",
    "#print jrns\n",
    "y = 0\n",
    "for i in range(1, len(train_set)):\n",
    "    if jrns[i] == '01300001':\n",
    "        y = Trainnp[i]\n",
    "        break\n",
    "       \n",
    "    \n",
    "longitudes=[]\n",
    "latitudes=[]\n",
    "for point in y:\n",
    "    longitudes.append(point[0])\n",
    "    latitudes.append(point[1])\n",
    "gmap.plot(latitudes, longitudes, 'red', edge_width=8)\n",
    "map_name=\"matched.html\"\n",
    "gmap.draw(map_name)"
   ]
  },
  {
   "cell_type": "code",
   "execution_count": null,
   "metadata": {
    "collapsed": true
   },
   "outputs": [],
   "source": [
    "fig, ax = plt.subplots(2, 3, sharex='col', sharey='row'"
   ]
  }
 ],
 "metadata": {
  "kernelspec": {
   "display_name": "Python 2",
   "language": "python",
   "name": "python2"
  },
  "language_info": {
   "codemirror_mode": {
    "name": "ipython",
    "version": 2
   },
   "file_extension": ".py",
   "mimetype": "text/x-python",
   "name": "python",
   "nbconvert_exporter": "python",
   "pygments_lexer": "ipython2",
   "version": "2.7.14"
  }
 },
 "nbformat": 4,
 "nbformat_minor": 2
}
