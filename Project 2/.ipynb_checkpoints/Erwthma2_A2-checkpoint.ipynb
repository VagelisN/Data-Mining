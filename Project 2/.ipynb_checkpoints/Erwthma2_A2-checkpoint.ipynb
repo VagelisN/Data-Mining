{
 "cells": [
  {
   "cell_type": "markdown",
   "metadata": {},
   "source": [
    "# Ερώτημα 2 (Α2)"
   ]
  },
  {
   "cell_type": "code",
   "execution_count": 18,
   "metadata": {},
   "outputs": [],
   "source": [
    "import pandas as pd\n",
    "from ast import literal_eval\n",
    "import gmplot\n",
    "from fastdtw import fastdtw\n",
    "from math import radians, cos, sin, asin, sqrt\n",
    "from scipy.spatial.distance import euclidean\n",
    "import numpy as np\n",
    "import os\n",
    "\n",
    "def haversine(A, B):\n",
    "    \"\"\"\n",
    "    Calculate the great circle distance between two points \n",
    "    on the earth (specified in decimal degrees)\n",
    "    \"\"\"\n",
    "    # convert decimal degrees to radians \n",
    "    lon1 = A[0]\n",
    "    lat1 = A[1]\n",
    "    lon2 = B[0]\n",
    "    lat2 = B[1]\n",
    "    lon1, lat1, lon2, lat2 = map(radians, [lon1, lat1, lon2, lat2])\n",
    "\n",
    "    # haversine formula \n",
    "    dlon = lon2 - lon1 \n",
    "    dlat = lat2 - lat1 \n",
    "    a = sin(dlat/2)**2 + cos(lat1) * cos(lat2) * sin(dlon/2)**2\n",
    "    c = 2 * asin(sqrt(a)) \n",
    "    r = 6371 # Radius of earth in kilometers. Use 3956 for miles\n",
    "    return c * r\n",
    "\n",
    "def LCS(X, Y):\n",
    "    threshold = 0.2\n",
    "    m = len(X)\n",
    "    n = len(Y)\n",
    "    # An (m+1) times (n+1) matrix\n",
    "    C = [[0] * (n + 1) for _ in range(m + 1)]\n",
    "    #print C\n",
    "    for i in range(1, m+1):\n",
    "        for j in range(1, n+1):\n",
    "            if haversine(X[i-1],Y[j-1]) <= threshold:\n",
    "                C[i][j] = C[i-1][j-1] + 1\n",
    "            else:\n",
    "                C[i][j] = max(C[i][j-1], C[i-1][j])\n",
    "    return C\n",
    "\n",
    "def backTrack(C, X, Y, i, j):\n",
    "    threshold = 0.2\n",
    "    if i == 0 or j == 0:\n",
    "        return []\n",
    "    if haversine(X[i-1],Y[j-1]) <= threshold:\n",
    "        l =backTrack(C, X, Y, i-1, j-1)\n",
    "        l.append(X[i-1].tolist())\n",
    "        return  l\n",
    "    else:\n",
    "        if C[i][j-1] > C[i-1][j]:\n",
    "            return backTrack(C, X, Y, i, j-1)\n",
    "        else:\n",
    "            return backTrack(C, X, Y, i-1, j)"
   ]
  },
  {
   "cell_type": "code",
   "execution_count": 15,
   "metadata": {},
   "outputs": [],
   "source": [
    "train_set = pd.read_csv('datasets/train_set.csv', # replace with the correct path\n",
    "                        converters={\"Trajectory\": literal_eval},\n",
    "                        index_col='tripId')\n",
    "\n",
    "test_set1 = pd.read_csv('datasets/test_set_a2.csv', # replace with the correct path\n",
    "                        converters={\"Trajectory\": literal_eval})"
   ]
  },
  {
   "cell_type": "code",
   "execution_count": 19,
   "metadata": {},
   "outputs": [],
   "source": [
    "Trainnp = []\n",
    "for x  in train_set[\"Trajectory\"]:\n",
    "    temp1 = np.asarray(x)\n",
    "    temp1 = temp1[:, [1,2]]\n",
    "    Trainnp.append(temp1)\n",
    "    \n",
    "Test1np = []\n",
    "for x  in test_set1[\"Trajectory\"]:\n",
    "    temp = np.asarray(x)\n",
    "    temp = temp[:, [1,2]]\n",
    "    Test1np.append(temp)\n",
    "    \n",
    "Ids = []\n",
    "for x in train_set['journeyPatternId']:\n",
    "    Ids.append(x)  "
   ]
  },
  {
   "cell_type": "code",
   "execution_count": 24,
   "metadata": {},
   "outputs": [
    {
     "name": "stdout",
     "output_type": "stream",
     "text": [
      "[73, 78, 74, 75, 82]\n",
      "['040D0002', '040D0002', '040D0002', '040D0002', '040D0002']\n"
     ]
    },
    {
     "ename": "IOError",
     "evalue": "[Errno 2] No such file or directory: './erwthma3/Test_trip_83/Test_trip_83.html'",
     "output_type": "error",
     "traceback": [
      "\u001b[0;31m---------------------------------------------------------------------------\u001b[0m",
      "\u001b[0;31mIOError\u001b[0m                                   Traceback (most recent call last)",
      "\u001b[0;32m<ipython-input-24-1bb8893176dc>\u001b[0m in \u001b[0;36m<module>\u001b[0;34m()\u001b[0m\n\u001b[1;32m     37\u001b[0m     \u001b[0mgmap\u001b[0m\u001b[0;34m.\u001b[0m\u001b[0mplot\u001b[0m\u001b[0;34m(\u001b[0m\u001b[0mlatitudes\u001b[0m\u001b[0;34m,\u001b[0m \u001b[0mlongitudes\u001b[0m\u001b[0;34m,\u001b[0m \u001b[0;34m'cornflowerblue'\u001b[0m\u001b[0;34m,\u001b[0m \u001b[0medge_width\u001b[0m\u001b[0;34m=\u001b[0m\u001b[0;36m10\u001b[0m\u001b[0;34m)\u001b[0m\u001b[0;34m\u001b[0m\u001b[0m\n\u001b[1;32m     38\u001b[0m     \u001b[0mmap_name\u001b[0m\u001b[0;34m=\u001b[0m\u001b[0;34m(\u001b[0m\u001b[0;34m\"./erwthma3/Test_trip_\"\u001b[0m\u001b[0;34m+\u001b[0m\u001b[0mstr\u001b[0m\u001b[0;34m(\u001b[0m\u001b[0mi\u001b[0m\u001b[0;34m+\u001b[0m\u001b[0;36m1\u001b[0m\u001b[0;34m)\u001b[0m\u001b[0;34m+\u001b[0m\u001b[0;34m\"/Test_trip_\"\u001b[0m\u001b[0;34m+\u001b[0m\u001b[0mstr\u001b[0m\u001b[0;34m(\u001b[0m\u001b[0mi\u001b[0m\u001b[0;34m+\u001b[0m\u001b[0;36m1\u001b[0m\u001b[0;34m)\u001b[0m\u001b[0;34m+\u001b[0m\u001b[0;34m\".html\"\u001b[0m\u001b[0;34m)\u001b[0m\u001b[0;34m\u001b[0m\u001b[0m\n\u001b[0;32m---> 39\u001b[0;31m     \u001b[0mgmap\u001b[0m\u001b[0;34m.\u001b[0m\u001b[0mdraw\u001b[0m\u001b[0;34m(\u001b[0m\u001b[0mmap_name\u001b[0m\u001b[0;34m)\u001b[0m\u001b[0;34m\u001b[0m\u001b[0m\n\u001b[0m\u001b[1;32m     40\u001b[0m     \u001b[0mj\u001b[0m\u001b[0;34m=\u001b[0m\u001b[0;36m1\u001b[0m\u001b[0;34m\u001b[0m\u001b[0m\n\u001b[1;32m     41\u001b[0m     \u001b[0;32mfor\u001b[0m \u001b[0mneighbour\u001b[0m \u001b[0;32min\u001b[0m \u001b[0mpaths\u001b[0m\u001b[0;34m:\u001b[0m\u001b[0;34m\u001b[0m\u001b[0m\n",
      "\u001b[0;32m/home/vagelis/anaconda2/lib/python2.7/site-packages/gmplot/gmplot.pyc\u001b[0m in \u001b[0;36mdraw\u001b[0;34m(self, htmlfile)\u001b[0m\n\u001b[1;32m    173\u001b[0m     \u001b[0;31m# paths\u001b[0m\u001b[0;34m\u001b[0m\u001b[0;34m\u001b[0m\u001b[0m\n\u001b[1;32m    174\u001b[0m     \u001b[0;32mdef\u001b[0m \u001b[0mdraw\u001b[0m\u001b[0;34m(\u001b[0m\u001b[0mself\u001b[0m\u001b[0;34m,\u001b[0m \u001b[0mhtmlfile\u001b[0m\u001b[0;34m)\u001b[0m\u001b[0;34m:\u001b[0m\u001b[0;34m\u001b[0m\u001b[0m\n\u001b[0;32m--> 175\u001b[0;31m         \u001b[0mf\u001b[0m \u001b[0;34m=\u001b[0m \u001b[0mopen\u001b[0m\u001b[0;34m(\u001b[0m\u001b[0mhtmlfile\u001b[0m\u001b[0;34m,\u001b[0m \u001b[0;34m'w'\u001b[0m\u001b[0;34m)\u001b[0m\u001b[0;34m\u001b[0m\u001b[0m\n\u001b[0m\u001b[1;32m    176\u001b[0m         \u001b[0mf\u001b[0m\u001b[0;34m.\u001b[0m\u001b[0mwrite\u001b[0m\u001b[0;34m(\u001b[0m\u001b[0;34m'<html>\\n'\u001b[0m\u001b[0;34m)\u001b[0m\u001b[0;34m\u001b[0m\u001b[0m\n\u001b[1;32m    177\u001b[0m         \u001b[0mf\u001b[0m\u001b[0;34m.\u001b[0m\u001b[0mwrite\u001b[0m\u001b[0;34m(\u001b[0m\u001b[0;34m'<head>\\n'\u001b[0m\u001b[0;34m)\u001b[0m\u001b[0;34m\u001b[0m\u001b[0m\n",
      "\u001b[0;31mIOError\u001b[0m: [Errno 2] No such file or directory: './erwthma3/Test_trip_83/Test_trip_83.html'"
     ]
    }
   ],
   "source": [
    "if not os.path.exists(\"./erwthma3\"):\n",
    "    os.makedirs(\"./erwthma3\")\n",
    "\n",
    "i=0\n",
    "for x in Test1np:\n",
    "    pathlens = [0] * 5\n",
    "    ids =[0] * 5\n",
    "    paths = [0] * 5\n",
    "    minpos = 0\n",
    "    minval = -1\n",
    "    temp_id=1\n",
    "    for y in Trainnp:\n",
    "        C = LCS(x,y)\n",
    "        i = len(x)\n",
    "        j = len(y)\n",
    "        path = backTrack(C,x,y,i,j)\n",
    "        if len(path) > minval:\n",
    "            pathlens[minpos] = len(path)\n",
    "            paths[minpos] = path\n",
    "            ids[minpos] = Ids[temp_id]\n",
    "            minval = min(pathlens)\n",
    "            minpos = pathlens.index(minval)\n",
    "        temp_id +=1\n",
    "    print pathlens\n",
    "    print ids\n",
    "    \n",
    "    if not os.path.exists(\"./erwthma3/Test_trip_\"+str(i+1)):\n",
    "        os.makedirs(\"./erwthma3/Test_trip_\"+str(i+1))\n",
    "        \n",
    "    longitudes=[]\n",
    "    latitudes=[]\n",
    "    \n",
    "    for point in x:\n",
    "        longitudes.append(point[0])\n",
    "        latitudes.append(point[1])\n",
    "    gmap = gmplot.GoogleMapPlotter(latitudes[0],longitudes[0],16)\n",
    "    gmap.plot(latitudes, longitudes, 'cornflowerblue', edge_width=10)\n",
    "    map_name=(\"./erwthma3/Test_trip_\"+str(i+1)+\"/Test_trip_\"+str(i+1)+\".html\")\n",
    "    gmap.draw(map_name)\n",
    "    j=1\n",
    "    for neighbour in paths:\n",
    "        longitudes=[]\n",
    "        latitudes=[]\n",
    "        for point in x:\n",
    "            longitudes.append(point[0])\n",
    "            latitudes.append(point[1])\n",
    "        gmap = gmplot.GoogleMapPlotter(latitudes[0],longitudes[0],16)\n",
    "        gmap.plot(latitudes, longitudes, 'cornflowerblue', edge_width=10)\n",
    "        longitudes=[]\n",
    "        latitudes=[]\n",
    "        for point in neighbour:\n",
    "            longitudes.append(point[0])\n",
    "            latitudes.append(point[1])\n",
    "        gmap.plot(latitudes, longitudes, 'red', edge_width=7)\n",
    "        map_name=(\"./erwthma3/Test_trip_\"+str(i+1)+\"/Neighbour_\"+str(j)+\".html\")\n",
    "        gmap.draw(map_name)\n",
    "        j+=1\n",
    "    i+=1"
   ]
  },
  {
   "cell_type": "code",
   "execution_count": null,
   "metadata": {},
   "outputs": [],
   "source": []
  }
 ],
 "metadata": {
  "kernelspec": {
   "display_name": "Python 2",
   "language": "python",
   "name": "python2"
  },
  "language_info": {
   "codemirror_mode": {
    "name": "ipython",
    "version": 2
   },
   "file_extension": ".py",
   "mimetype": "text/x-python",
   "name": "python",
   "nbconvert_exporter": "python",
   "pygments_lexer": "ipython2",
   "version": "2.7.14"
  }
 },
 "nbformat": 4,
 "nbformat_minor": 2
}
