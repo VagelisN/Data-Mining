{
 "cells": [
  {
   "cell_type": "markdown",
   "metadata": {},
   "source": [
    "# Ερώτημα 2 (Α1)"
   ]
  },
  {
   "cell_type": "code",
   "execution_count": 1,
   "metadata": {},
   "outputs": [],
   "source": [
    "import pandas as pd\n",
    "from ast import literal_eval\n",
    "import gmplot\n",
    "from fastdtw import fastdtw\n",
    "from math import radians, cos, sin, asin, sqrt\n",
    "import numpy as np\n",
    "import os\n",
    "import time\n",
    "\n",
    "def haversine(A, B):\n",
    "    \"\"\"\n",
    "    Calculate the great circle distance between two points \n",
    "    on the earth (specified in decimal degrees)\n",
    "    \"\"\"\n",
    "    # convert decimal degrees to radians \n",
    "    lon1 = A[0]\n",
    "    lat1 = A[1]\n",
    "    lon2 = B[0]\n",
    "    lat2 = B[1]\n",
    "    lon1, lat1, lon2, lat2 = map(radians, [lon1, lat1, lon2, lat2])\n",
    "\n",
    "    # haversine formula \n",
    "    dlon = lon2 - lon1 \n",
    "    dlat = lat2 - lat1 \n",
    "    a = sin(dlat/2)**2 + cos(lat1) * cos(lat2) * sin(dlon/2)**2\n",
    "    c = 2 * asin(sqrt(a)) \n",
    "    r = 6371 # Radius of earth in kilometers. Use 3956 for miles\n",
    "    return c * r"
   ]
  },
  {
   "cell_type": "code",
   "execution_count": null,
   "metadata": {},
   "outputs": [],
   "source": [
    "train_set = pd.read_csv('datasets/train_set.csv', # replace with the correct path\n",
    "                        converters={\"Trajectory\": literal_eval},\n",
    "                        index_col='tripId')\n",
    "\n",
    "test_set1 = pd.read_csv('datasets/test_set_a1.csv', # replace with the correct path\n",
    "                        converters={\"Trajectory\": literal_eval})"
   ]
  },
  {
   "cell_type": "code",
   "execution_count": null,
   "metadata": {},
   "outputs": [],
   "source": [
    "Trainnp = []\n",
    "for x  in train_set[\"Trajectory\"]:\n",
    "    temp1 = np.asarray(x)\n",
    "    temp1 = temp1[:, [1,2]]\n",
    "    Trainnp.append(temp1)\n",
    "    \n",
    "Test1np = []\n",
    "for x  in test_set1[\"Trajectory\"]:\n",
    "    temp = np.asarray(x)\n",
    "    temp = temp[:, [1,2]]\n",
    "    Test1np.append(temp)\n",
    "    \n",
    "Ids = []\n",
    "for x in train_set['journeyPatternId']:\n",
    "    Ids.append(x)  \n",
    "print Ids"
   ]
  },
  {
   "cell_type": "code",
   "execution_count": null,
   "metadata": {},
   "outputs": [],
   "source": [
    "if not os.path.exists(\"./erwthma2\"):\n",
    "    os.makedirs(\"./erwthma2\")\n",
    "\n",
    "i=0\n",
    "start = time.time()\n",
    "time.clock()    \n",
    "for x in Test1np:\n",
    "    distances = [float('inf')] * 5\n",
    "    ids =[0] * 5\n",
    "    routes = [0] * 5\n",
    "    maxpos = 0\n",
    "    maxval = float('inf')\n",
    "    temp_id=1\n",
    "    for y in Trainnp:\n",
    "        temp, path = fastdtw(x, y, dist=haversine)\n",
    "        if temp < maxval:\n",
    "            distances[maxpos] = temp\n",
    "            routes[maxpos] = y\n",
    "            ids[maxpos] = Ids[temp_id]\n",
    "            maxval = max(distances)\n",
    "            maxpos = distances.index(maxval)\n",
    "        temp_id +=1\n",
    "    print distances\n",
    "    print ids\n",
    "    \n",
    "    if not os.path.exists(\"./erwthma2/Test_trip_\"+str(i+1)):\n",
    "        os.makedirs(\"./erwthma2/Test_trip_\"+str(i+1))\n",
    "        \n",
    "    longitudes=[]\n",
    "    latitudes=[]\n",
    "    \n",
    "    for point in x:\n",
    "        longitudes.append(point[0])\n",
    "        latitudes.append(point[1])\n",
    "    gmap = gmplot.GoogleMapPlotter(latitudes[0],longitudes[0],16)\n",
    "    gmap.plot(latitudes, longitudes, 'cornflowerblue', edge_width=10)\n",
    "    map_name=(\"./erwthma2/Test_trip_\"+str(i+1)+\"/Test_trip_\"+str(i+1)+\".html\")\n",
    "    gmap.draw(map_name)\n",
    "    j=1\n",
    "    for neighbour in routes:\n",
    "        longitudes=[]\n",
    "        latitudes=[]\n",
    "        for point in neighbour:\n",
    "            longitudes.append(point[0])\n",
    "            latitudes.append(point[1])\n",
    "        gmap = gmplot.GoogleMapPlotter(latitudes[0],longitudes[0],16)\n",
    "        gmap.plot(latitudes, longitudes, 'cornflowerblue', edge_width=10)\n",
    "        map_name=(\"./erwthma2/Test_trip_\"+str(i+1)+\"/Neighbour_\"+str(j)+\".html\")\n",
    "        gmap.draw(map_name)\n",
    "        j+=1\n",
    "    i+=1\n",
    "\n",
    "elapsed = time.time() - start\n"
   ]
  }
 ],
 "metadata": {
  "kernelspec": {
   "display_name": "Python 2",
   "language": "python",
   "name": "python2"
  },
  "language_info": {
   "codemirror_mode": {
    "name": "ipython",
    "version": 2
   },
   "file_extension": ".py",
   "mimetype": "text/x-python",
   "name": "python",
   "nbconvert_exporter": "python",
   "pygments_lexer": "ipython2",
   "version": "2.7.14"
  }
 },
 "nbformat": 4,
 "nbformat_minor": 2
}
