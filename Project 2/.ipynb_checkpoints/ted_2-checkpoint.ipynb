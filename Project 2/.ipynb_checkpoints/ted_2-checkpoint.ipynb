{
 "cells": [
  {
   "cell_type": "code",
   "execution_count": 4,
   "metadata": {},
   "outputs": [],
   "source": [
    "import pandas as pd\n",
    "from ast import literal_eval\n",
    "import gmplot\n",
    "from fastdtw import fastdtw\n",
    "from math import radians, cos, sin, asin, sqrt\n",
    "from scipy.spatial.distance import euclidean\n",
    "import numpy as np\n",
    "\n",
    "def haversine(A, B):\n",
    "    \"\"\"\n",
    "    Calculate the great circle distance between two points \n",
    "    on the earth (specified in decimal degrees)\n",
    "    \"\"\"\n",
    "    # convert decimal degrees to radians \n",
    "    lon1 = A[0]\n",
    "    lat1 = A[1]\n",
    "    lon2 = B[0]\n",
    "    lat2 = B[1]\n",
    "    lon1, lat1, lon2, lat2 = map(radians, [lon1, lat1, lon2, lat2])\n",
    "\n",
    "    # haversine formula \n",
    "    dlon = lon2 - lon1 \n",
    "    dlat = lat2 - lat1 \n",
    "    a = sin(dlat/2)**2 + cos(lat1) * cos(lat2) * sin(dlon/2)**2\n",
    "    c = 2 * asin(sqrt(a)) \n",
    "    r = 6371 # Radius of earth in kilometers. Use 3956 for miles\n",
    "    return c * r\n",
    "\n",
    "def LCS(X, Y):\n",
    "    threshold = 0.2\n",
    "    m = len(X)\n",
    "    n = len(Y)\n",
    "    # An (m+1) times (n+1) matrix\n",
    "    C = [[0] * (n + 1) for _ in range(m + 1)]\n",
    "    #print C\n",
    "    for i in range(1, m+1):\n",
    "        for j in range(1, n+1):\n",
    "            if haversine(X[i-1],Y[j-1]) <= threshold:\n",
    "                C[i][j] = C[i-1][j-1] + 1\n",
    "            else:\n",
    "                C[i][j] = max(C[i][j-1], C[i-1][j])\n",
    "    return C\n",
    "\n",
    "def backTrack(C, X, Y, i, j):\n",
    "    threshold = 0.2\n",
    "    if i == 0 or j == 0:\n",
    "        return []\n",
    "    if haversine(X[i-1],Y[j-1]) <= threshold:\n",
    "        l =backTrack(C, X, Y, i-1, j-1)\n",
    "        l.append(X[i-1].tolist())\n",
    "        return  l\n",
    "    else:\n",
    "        if C[i][j-1] > C[i-1][j]:\n",
    "            return backTrack(C, X, Y, i, j-1)\n",
    "        else:\n",
    "            return backTrack(C, X, Y, i-1, j)\n",
    "\n"
   ]
  },
  {
   "cell_type": "code",
   "execution_count": 5,
   "metadata": {
    "collapsed": true
   },
   "outputs": [],
   "source": [
    "train_set = pd.read_csv('datasets/train_set.csv', # replace with the correct path\n",
    "                        converters={\"Trajectory\": literal_eval},\n",
    "                        index_col='tripId')"
   ]
  },
  {
   "cell_type": "code",
   "execution_count": 2,
   "metadata": {
    "collapsed": true
   },
   "outputs": [],
   "source": [
    "i=0\n",
    "tmp=train_set[0:5]\n",
    "for x in tmp[\"Trajectory\"]:\n",
    "    longitudes=[]\n",
    "    latitudes=[]\n",
    "    for point in x:\n",
    "        longitudes.append(point[1])\n",
    "        latitudes.append(point[2])\n",
    "    gmap = gmplot.GoogleMapPlotter(latitudes[0],longitudes[0],16)\n",
    "    gmap.plot(latitudes, longitudes, 'cornflowerblue', edge_width=10)\n",
    "    map_name=\"map\"+str(i)+\".html\"\n",
    "    i+=1\n",
    "    gmap.draw(map_name)\n",
    "    "
   ]
  },
  {
   "cell_type": "code",
   "execution_count": 9,
   "metadata": {
    "collapsed": true
   },
   "outputs": [],
   "source": [
    "#train_set=train_set[0:3]\n",
    "Trainnp = []\n",
    "for x  in train_set[\"Trajectory\"]:\n",
    "    temp1 = np.asarray(x)\n",
    "    temp1 = temp1[:, [1,2]]\n",
    "    Trainnp.append(temp1)"
   ]
  },
  {
   "cell_type": "code",
   "execution_count": 4,
   "metadata": {
    "scrolled": false
   },
   "outputs": [
    {
     "name": "stdout",
     "output_type": "stream",
     "text": [
      "[3.7907879842382184, 3.991615973522313, 0.0, 3.510275423088294, 4.1153644723313825]\n",
      "[0.0, 3.4784777870751165, 3.3715528320510333, 2.7925383452797, 3.388229744215747]\n",
      "[4.6981154136667564, 0.0, 4.866980441664414, 4.802779557963639, 4.767905625420979]\n",
      "[2.8459017281880925, 0.0, 2.455559019767911, 3.210603298422509, 3.4581308973196]\n",
      "[0.0, 4.640037345903213, 4.31391065409071, 4.69030513119871, 4.467261215446132]\n"
     ]
    }
   ],
   "source": [
    "test_set1 = pd.read_csv('datasets/test_set_a1.csv', # replace with the correct path\n",
    "                        converters={\"Trajectory\": literal_eval})\n",
    "\n",
    "\n",
    "Test1np = []\n",
    "for x  in test_set1[\"Trajectory\"]:\n",
    "    temp = np.asarray(x)\n",
    "    temp = temp[:, [1,2]]\n",
    "    Test1np.append(temp)\n",
    "\n",
    "for x in Test1np:\n",
    "    distances = [float('inf')] * 5\n",
    "    routes = [0] * 5\n",
    "    maxpos = 0\n",
    "    maxval = float('inf')\n",
    "    for y in Trainnp:\n",
    "        temp, path = fastdtw(x, y, dist=haversine)\n",
    "        if temp < maxval:\n",
    "            distances[maxpos] = temp\n",
    "            routes[maxpos] = y\n",
    "            maxval = max(distances)\n",
    "            maxpos = distances.index(maxval)\n",
    "    print distances\n"
   ]
  },
  {
   "cell_type": "code",
   "execution_count": 5,
   "metadata": {
    "collapsed": true
   },
   "outputs": [],
   "source": [
    "i = 0\n",
    "for x in routes:\n",
    "    longitudes=[]\n",
    "    latitudes=[]\n",
    "    for point in x:\n",
    "        longitudes.append(point[0])\n",
    "        latitudes.append(point[1])\n",
    "    gmap = gmplot.GoogleMapPlotter(latitudes[0],longitudes[0],16)\n",
    "    gmap.plot(latitudes, longitudes, 'cornflowerblue', edge_width=10)\n",
    "    map_name=\"Neighbour\"+str(i)+\".html\"\n",
    "    gmap.draw(map_name)\n",
    "    i +=1"
   ]
  },
  {
   "cell_type": "code",
   "execution_count": null,
   "metadata": {
    "collapsed": true
   },
   "outputs": [],
   "source": [
    "for x in test_set1[\"Trajectory\"]:\n",
    "    longitudes=[]\n",
    "    latitudes=[]\n",
    "    for point in x:\n",
    "        longitudes.append(point[1])\n",
    "        latitudes.append(point[2])\n",
    "    gmap = gmplot.GoogleMapPlotter(latitudes[0],longitudes[0],16)\n",
    "    gmap.plot(latitudes, longitudes, 'cornflowerblue', edge_width=10)\n",
    "    map_name=\"Me.html\"\n",
    "    gmap.draw(map_name)"
   ]
  },
  {
   "cell_type": "code",
   "execution_count": null,
   "metadata": {
    "collapsed": true
   },
   "outputs": [],
   "source": [
    "if np.array_equal(miny,Test1np[0]):\n",
    "    print \"All good\""
   ]
  },
  {
   "cell_type": "code",
   "execution_count": 1,
   "metadata": {},
   "outputs": [
    {
     "ename": "NameError",
     "evalue": "name 'LCS' is not defined",
     "output_type": "error",
     "traceback": [
      "\u001b[0;31m---------------------------------------------------------------------------\u001b[0m",
      "\u001b[0;31mNameError\u001b[0m                                 Traceback (most recent call last)",
      "\u001b[0;32m<ipython-input-1-0d62189c956c>\u001b[0m in \u001b[0;36m<module>\u001b[0;34m()\u001b[0m\n\u001b[0;32m----> 1\u001b[0;31m \u001b[0mC\u001b[0m \u001b[0;34m=\u001b[0m \u001b[0mLCS\u001b[0m\u001b[0;34m(\u001b[0m\u001b[0mTrainnp\u001b[0m\u001b[0;34m[\u001b[0m\u001b[0;36m1\u001b[0m\u001b[0;34m]\u001b[0m\u001b[0;34m,\u001b[0m\u001b[0mTrainnp\u001b[0m\u001b[0;34m[\u001b[0m\u001b[0;36m2\u001b[0m\u001b[0;34m]\u001b[0m\u001b[0;34m)\u001b[0m\u001b[0;34m\u001b[0m\u001b[0m\n\u001b[0m\u001b[1;32m      2\u001b[0m \u001b[0mi\u001b[0m \u001b[0;34m=\u001b[0m \u001b[0mlen\u001b[0m\u001b[0;34m(\u001b[0m\u001b[0mTrainnp\u001b[0m\u001b[0;34m[\u001b[0m\u001b[0;36m1\u001b[0m\u001b[0;34m]\u001b[0m\u001b[0;34m)\u001b[0m\u001b[0;34m\u001b[0m\u001b[0m\n\u001b[1;32m      3\u001b[0m \u001b[0mj\u001b[0m \u001b[0;34m=\u001b[0m \u001b[0mlen\u001b[0m\u001b[0;34m(\u001b[0m\u001b[0mTrainnp\u001b[0m\u001b[0;34m[\u001b[0m\u001b[0;36m2\u001b[0m\u001b[0;34m]\u001b[0m\u001b[0;34m)\u001b[0m\u001b[0;34m\u001b[0m\u001b[0m\n\u001b[1;32m      4\u001b[0m \u001b[0mpath\u001b[0m \u001b[0;34m=\u001b[0m \u001b[0mbackTrack\u001b[0m\u001b[0;34m(\u001b[0m\u001b[0mC\u001b[0m\u001b[0;34m,\u001b[0m\u001b[0mTrainnp\u001b[0m\u001b[0;34m[\u001b[0m\u001b[0;36m1\u001b[0m\u001b[0;34m]\u001b[0m\u001b[0;34m,\u001b[0m\u001b[0mTrainnp\u001b[0m\u001b[0;34m[\u001b[0m\u001b[0;36m2\u001b[0m\u001b[0;34m]\u001b[0m\u001b[0;34m,\u001b[0m\u001b[0mi\u001b[0m\u001b[0;34m,\u001b[0m\u001b[0mj\u001b[0m\u001b[0;34m)\u001b[0m\u001b[0;34m\u001b[0m\u001b[0m\n\u001b[1;32m      5\u001b[0m \u001b[0;34m\u001b[0m\u001b[0m\n",
      "\u001b[0;31mNameError\u001b[0m: name 'LCS' is not defined"
     ]
    }
   ],
   "source": [
    "C = LCS(Trainnp[1],Trainnp[2])\n",
    "i = len(Trainnp[1])\n",
    "j = len(Trainnp[2])\n",
    "path = backTrack(C,Trainnp[1],Trainnp[2],i,j)\n",
    "\n",
    "longitudes=[]\n",
    "latitudes=[]\n",
    "for point in Trainnp[1]:\n",
    "    longitudes.append(point[0])\n",
    "    latitudes.append(point[1])\n",
    "gmap = gmplot.GoogleMapPlotter(latitudes[0],longitudes[0],16)\n",
    "gmap.plot(latitudes, longitudes, 'cornflowerblue', edge_width=10)\n",
    "longitudes=[]\n",
    "latitudes=[]\n",
    "for point in path:\n",
    "    longitudes.append(point[0])\n",
    "    latitudes.append(point[1])\n",
    "gmap.plot(latitudes, longitudes, 'red', edge_width=7)\n",
    "\n",
    "map_name=\"Me2.html\"\n",
    "gmap.draw(map_name)"
   ]
  },
  {
   "cell_type": "code",
   "execution_count": null,
   "metadata": {
    "collapsed": true
   },
   "outputs": [],
   "source": []
  },
  {
   "cell_type": "code",
   "execution_count": null,
   "metadata": {
    "collapsed": true
   },
   "outputs": [],
   "source": []
  }
 ],
 "metadata": {
  "kernelspec": {
   "display_name": "Python 2",
   "language": "python",
   "name": "python2"
  },
  "language_info": {
   "codemirror_mode": {
    "name": "ipython",
    "version": 2
   },
   "file_extension": ".py",
   "mimetype": "text/x-python",
   "name": "python",
   "nbconvert_exporter": "python",
   "pygments_lexer": "ipython2",
   "version": "2.7.14"
  }
 },
 "nbformat": 4,
 "nbformat_minor": 2
}
