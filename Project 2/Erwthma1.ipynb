{
 "cells": [
  {
   "cell_type": "markdown",
   "metadata": {},
   "source": [
    "# Ερώτημα 1 \n"
   ]
  },
  {
   "cell_type": "code",
   "execution_count": 1,
   "metadata": {},
   "outputs": [],
   "source": [
    "import pandas as pd\n",
    "from ast import literal_eval\n",
    "import gmplot\n",
    "import os "
   ]
  },
  {
   "cell_type": "code",
   "execution_count": 2,
   "metadata": {},
   "outputs": [],
   "source": [
    "train_set = pd.read_csv('datasets/train_set.csv',\n",
    "                        converters={\"Trajectory\": literal_eval},\n",
    "                        index_col='tripId')"
   ]
  },
  {
   "cell_type": "code",
   "execution_count": 3,
   "metadata": {},
   "outputs": [
    {
     "name": "stdout",
     "output_type": "stream",
     "text": [
      "015A1001\n",
      "015A1001\n",
      "015B1002\n",
      "077A0001\n",
      "083A1001\n"
     ]
    }
   ],
   "source": [
    "if not os.path.exists(\"./erwthma1\"):\n",
    "    os.makedirs(\"./erwthma1\")\n",
    "i=5\n",
    "while i > 0:\n",
    "    x = train_set[\"Trajectory\"][i*4]\n",
    "    trip_id=train_set[\"journeyPatternId\"][i*4]\n",
    "    print trip_id\n",
    "    longitudes=[]\n",
    "    latitudes=[]\n",
    "    for point in x:\n",
    "        longitudes.append(point[1])\n",
    "        latitudes.append(point[2])\n",
    "    gmap = gmplot.GoogleMapPlotter(latitudes[0],longitudes[0],16)\n",
    "    gmap.plot(latitudes, longitudes, 'green', edge_width=10)\n",
    "    map_name=\"./erwthma1/map\"+str(i)+\".html\"\n",
    "    gmap.draw(map_name)\n",
    "    i-=1"
   ]
  }
 ],
 "metadata": {
  "kernelspec": {
   "display_name": "Python 2",
   "language": "python",
   "name": "python2"
  },
  "language_info": {
   "codemirror_mode": {
    "name": "ipython",
    "version": 2
   },
   "file_extension": ".py",
   "mimetype": "text/x-python",
   "name": "python",
   "nbconvert_exporter": "python",
   "pygments_lexer": "ipython2",
   "version": "2.7.14"
  }
 },
 "nbformat": 4,
 "nbformat_minor": 2
}
